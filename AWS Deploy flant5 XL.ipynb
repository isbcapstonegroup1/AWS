{
 "cells": [
  {
   "cell_type": "markdown",
   "id": "1f50066a",
   "metadata": {},
   "source": [
    "# Use Below link to get endpoint of different models:\n",
    "# https://github.com/aws/amazon-sagemaker-examples/blob/main/introduction_to_amazon_algorithms/jumpstart-foundation-models/text2text-generation-flan-t5-ul2.ipynb"
   ]
  },
  {
   "cell_type": "markdown",
   "id": "42672592",
   "metadata": {},
   "source": [
    "# 1. Setup"
   ]
  },
  {
   "cell_type": "code",
   "execution_count": null,
   "id": "c5e80ff0",
   "metadata": {},
   "outputs": [],
   "source": [
    "# Install the latest version of ipywidgets\n",
    "#!pip install --upgrade ipywidgets\n",
    "\n",
    "# Install a specific version of ipywidgets (version 7.0.0) quietly without displaying output\n",
    "#!pip install ipywidgets==7.0.0 --quiet\n",
    "\n",
    "# Upgrade the sagemaker package to the latest version quietly without displaying output\n",
    "#!pip install --upgrade sagemaker --quiet"
   ]
  },
  {
   "cell_type": "code",
   "execution_count": null,
   "id": "dd433a12",
   "metadata": {},
   "outputs": [],
   "source": [
    "# Import necessary libraries for working with SageMaker, AWS, and JSON\n",
    "import sagemaker\n",
    "import boto3\n",
    "import json\n",
    "\n",
    "# Import the Session class from the sagemaker.session module\n",
    "from sagemaker.session import Session"
   ]
  },
  {
   "cell_type": "code",
   "execution_count": null,
   "id": "9c39aed6",
   "metadata": {},
   "outputs": [],
   "source": [
    "# Create a SageMaker Session\n",
    "sagemaker_session = Session()\n",
    "\n",
    "# Get the Amazon Resource Name (ARN) of the AWS Identity and Access Management (IAM) role\n",
    "aws_role = sagemaker_session.get_caller_identity_arn()\n",
    "\n",
    "# Get the AWS region using boto3 Session\n",
    "aws_region = boto3.Session().region_name\n",
    "\n",
    "# Create a new SageMaker Session\n",
    "sess = sagemaker.Session()"
   ]
  },
  {
   "cell_type": "code",
   "execution_count": null,
   "id": "9c38a392",
   "metadata": {},
   "outputs": [],
   "source": [
    "#check if aws region is correct\n",
    "print(aws_region)"
   ]
  },
  {
   "cell_type": "markdown",
   "id": "3a30d77f",
   "metadata": {},
   "source": [
    "# 2. Select a pre-trained model"
   ]
  },
  {
   "cell_type": "code",
   "execution_count": null,
   "id": "9f2d7a8c",
   "metadata": {},
   "outputs": [],
   "source": [
    "# Define the model_id and model_version variables\n",
    "model_id, model_version = (\n",
    "    \"huggingface-text2text-flan-t5-xl\",  # Model identifier or name\n",
    "    \"1.*\",                                # Model version (wildcard for any version starting with 1)\n",
    ")\n"
   ]
  },
  {
   "cell_type": "markdown",
   "id": "0501aecb",
   "metadata": {},
   "source": [
    "# 3. Retrieve Artifacts & Deploy an Endpoint"
   ]
  },
  {
   "cell_type": "code",
   "execution_count": null,
   "id": "088eb357",
   "metadata": {},
   "outputs": [],
   "source": [
    "def get_sagemaker_session(local_download_dir) -> sagemaker.Session:\n",
    "    \"\"\"\n",
    "    Return the SageMaker session.\n",
    "\n",
    "    Args:\n",
    "        local_download_dir (str): Local directory for downloading artifacts.\n",
    "\n",
    "    Returns:\n",
    "        sagemaker.Session: SageMaker session with specified settings.\n",
    "    \"\"\"\n",
    "\n",
    "    # Create a SageMaker client using boto3\n",
    "    sagemaker_client = boto3.client(\n",
    "        service_name=\"sagemaker\", region_name=boto3.Session().region_name\n",
    "    )\n",
    "\n",
    "    # Specify session settings, such as the local download directory\n",
    "    session_settings = sagemaker.session_settings.SessionSettings(\n",
    "        local_download_dir=local_download_dir\n",
    "    )\n",
    "\n",
    "    # Create a SageMaker session with the specified client and settings\n",
    "    session = sagemaker.session.Session(\n",
    "        sagemaker_client=sagemaker_client, settings=session_settings\n",
    "    )\n",
    "\n",
    "    return session\n"
   ]
  },
  {
   "cell_type": "code",
   "execution_count": null,
   "id": "c82812d2",
   "metadata": {},
   "outputs": [],
   "source": [
    "# Create a directory named 'download_dir' if it doesn't exist (-p flag ensures no error if it already exists)\n",
    "!mkdir -p download_dir"
   ]
  },
  {
   "cell_type": "code",
   "execution_count": null,
   "id": "02bced38",
   "metadata": {},
   "outputs": [],
   "source": [
    "# Environment variables for a large model\n",
    "_large_model_env = {\"SAGEMAKER_MODEL_SERVER_WORKERS\": \"1\", \"TS_DEFAULT_WORKERS_PER_MODEL\": \"1\"}\n",
    "\n",
    "# Model configuration map for the specified Hugging Face model\n",
    "_model_config_map = {\n",
    "    \"huggingface-text2text-flan-t5-xl\": {\n",
    "        \"instance_type\": \"ml.m5.2xlarge\",  # Instance type for deploying the model\n",
    "        \"env\": {\"MMS_DEFAULT_WORKERS_PER_MODEL\": \"1\"},  # Environment variables for the specified model\n",
    "    },\n",
    "}\n"
   ]
  },
  {
   "cell_type": "code",
   "execution_count": null,
   "id": "62d21733",
   "metadata": {},
   "outputs": [],
   "source": [
    "# Import necessary modules from SageMaker\n",
    "from sagemaker import image_uris, model_uris, script_uris, hyperparameters\n",
    "from sagemaker.model import Model\n",
    "from sagemaker.predictor import Predictor\n",
    "from sagemaker.utils import name_from_base"
   ]
  },
  {
   "cell_type": "code",
   "execution_count": null,
   "id": "19a0b773",
   "metadata": {},
   "outputs": [],
   "source": [
    "# Create an endpoint name using the name_from_base utility function\n",
    "endpoint_name = name_from_base(f\"jumpstart-example-{model_id}\")"
   ]
  },
  {
   "cell_type": "code",
   "execution_count": null,
   "id": "a6d03100",
   "metadata": {},
   "outputs": [],
   "source": [
    "print(endpoint_name)"
   ]
  },
  {
   "cell_type": "code",
   "execution_count": null,
   "id": "47f58111",
   "metadata": {},
   "outputs": [],
   "source": [
    "# Check if the specified model_id is in the _model_config_map\n",
    "if model_id in _model_config_map:\n",
    "    # Retrieve the inference instance type from the _model_config_map\n",
    "    inference_instance_type = _model_config_map[model_id][\"instance_type\"]\n",
    "    print(1)  # Print a message, for example\n",
    "else:\n",
    "    # If model_id is not in the map, use a default inference instance type\n",
    "    inference_instance_type = \"ml.m5.2xlarge\"\n"
   ]
  },
  {
   "cell_type": "code",
   "execution_count": null,
   "id": "cc0a6e28",
   "metadata": {},
   "outputs": [],
   "source": [
    "# Retrieve the inference docker container URI. This is the base Hugging Face container image for the default model above.\n",
    "deploy_image_uri = image_uris.retrieve(\n",
    "    region=None,  # Automatically inferred from AWS region\n",
    "    framework=None,  # Framework is automatically inferred from model_id\n",
    "    image_scope=\"inference\",  # Specify the image scope for inference\n",
    "    model_id=model_id,  # Model identifier\n",
    "    model_version=model_version,  # Model version\n",
    "    instance_type=inference_instance_type,  # Inference instance type\n",
    ")\n"
   ]
  },
  {
   "cell_type": "code",
   "execution_count": null,
   "id": "c6031bdf",
   "metadata": {},
   "outputs": [],
   "source": [
    "# Retrieve the inference script URI. This includes all dependencies and scripts for model loading, inference handling, etc.\n",
    "deploy_source_uri = script_uris.retrieve(\n",
    "    model_id=model_id,  # Model identifier\n",
    "    model_version=model_version,  # Model version\n",
    "    script_scope=\"inference\",  # Specify the script scope for inference\n",
    ")\n"
   ]
  },
  {
   "cell_type": "code",
   "execution_count": null,
   "id": "58d5e5fe",
   "metadata": {},
   "outputs": [],
   "source": [
    "# Retrieve the model URI for inference.\n",
    "model_uri = model_uris.retrieve(\n",
    "    model_id=model_id,  # Model identifier\n",
    "    model_version=model_version,  # Model version\n",
    "    model_scope=\"inference\",  # Specify the model scope for inference\n",
    ")\n"
   ]
  },
  {
   "cell_type": "code",
   "execution_count": null,
   "id": "3f56c4e3",
   "metadata": {},
   "outputs": [],
   "source": [
    "# Create the SageMaker model instance\n",
    "if model_id in _model_config_map:\n",
    "    # For those large models, we already repack the inference script and model\n",
    "    # artifacts for you, so the `source_dir` argument to Model is not required.\n",
    "    model = Model(\n",
    "        image_uri=deploy_image_uri,\n",
    "        model_data=model_uri,\n",
    "        role=aws_role,\n",
    "        predictor_cls=Predictor,\n",
    "        name=endpoint_name,\n",
    "        env=_model_config_map[model_id][\"env\"],  # Set environment variables\n",
    "    )\n",
    "    print(1)  # Print a message, for example\n",
    "else:\n",
    "    # For other models, include source_dir, entry_point, and sagemaker_session parameters\n",
    "    model = Model(\n",
    "        image_uri=deploy_image_uri,\n",
    "        source_dir=deploy_source_uri,\n",
    "        model_data=model_uri,\n",
    "        entry_point=\"inference.py\",  # Entry point file in source_dir and present in deploy_source_uri\n",
    "        role=aws_role,\n",
    "        predictor_cls=Predictor,\n",
    "        name=endpoint_name,\n",
    "        sagemaker_session=get_sagemaker_session(\"download_dir\"),  # SageMaker session with download directory\n",
    "    )\n"
   ]
  },
  {
   "cell_type": "code",
   "execution_count": null,
   "id": "190724bc",
   "metadata": {},
   "outputs": [],
   "source": [
    "# Deploy the model. Note that when deploying the model through the Model class,\n",
    "# we need to pass the Predictor class to enable running inference through the SageMaker API.\n",
    "model_predictor = model.deploy(\n",
    "    initial_instance_count=1,\n",
    "    instance_type=inference_instance_type,\n",
    "    predictor_cls=Predictor,  # Specify the Predictor class for inference\n",
    "    endpoint_name=endpoint_name,  # Set the endpoint name for the deployed model\n",
    ")\n"
   ]
  },
  {
   "cell_type": "markdown",
   "id": "fa43f730",
   "metadata": {},
   "source": [
    "# 4. Query endpoint and parse response"
   ]
  },
  {
   "cell_type": "code",
   "execution_count": null,
   "id": "a65163b8",
   "metadata": {},
   "outputs": [],
   "source": [
    "# Define string variables for newline, bold, and unbold with specific escape sequences\n",
    "newline, bold, unbold = \"\\n\", \"\\033[1m\", \"\\033[0m\"\n",
    "\n",
    "# These variables can be used for formatting text in a terminal or console environment.\n",
    "# - `newline`: Contains the escape sequence for a newline character (`\"\\n\"`).\n",
    "# - `bold`: Contains the escape sequence for enabling bold text in some terminal environments (`\"\\033[1m\"`).\n",
    "# - `unbold`: Contains the escape sequence for disabling bold text and returning to normal formatting (`\"\\033[0m\"`).\n"
   ]
  },
  {
   "cell_type": "code",
   "execution_count": null,
   "id": "99419f30",
   "metadata": {},
   "outputs": [],
   "source": [
    "def query_endpoint(encoded_text, endpoint_name):\n",
    "    \"\"\"\n",
    "    Queries a SageMaker endpoint with the provided encoded text.\n",
    "\n",
    "    Args:\n",
    "        encoded_text (bytes): The encoded text data to be sent to the endpoint.\n",
    "        endpoint_name (str): The name of the SageMaker endpoint to query.\n",
    "\n",
    "    Returns:\n",
    "        dict: The response from the SageMaker endpoint.\n",
    "    \"\"\"\n",
    "    # Create a SageMaker runtime client\n",
    "    client = boto3.client(\"runtime.sagemaker\")\n",
    "    \n",
    "    # Invoke the specified endpoint with the encoded text as input\n",
    "    response = client.invoke_endpoint(\n",
    "        EndpointName=endpoint_name,  # Specify the name of the SageMaker endpoint\n",
    "        ContentType=\"application/x-text\",  # Set the content type for the input data\n",
    "        Body=encoded_text  # Provide the encoded text as the input body\n",
    "    )\n",
    "    \n",
    "    # Return the response from the endpoint\n",
    "    return response\n"
   ]
  },
  {
   "cell_type": "code",
   "execution_count": null,
   "id": "db83690e",
   "metadata": {},
   "outputs": [],
   "source": [
    "import json\n",
    "\n",
    "def parse_response(query_response):\n",
    "    \"\"\"\n",
    "    Parses the response from a SageMaker endpoint query.\n",
    "\n",
    "    Args:\n",
    "        query_response (dict): The response received from the SageMaker endpoint.\n",
    "\n",
    "    Returns:\n",
    "        str: The generated text extracted from the response.\n",
    "    \"\"\"\n",
    "    # Extract the model predictions from the response body\n",
    "    model_predictions = json.loads(query_response[\"Body\"].read())\n",
    "    \n",
    "    # Extract the generated text from the model predictions\n",
    "    generated_text = model_predictions[\"generated_text\"]\n",
    "    \n",
    "    # Return the generated text\n",
    "    return generated_text\n"
   ]
  },
  {
   "cell_type": "markdown",
   "id": "af96db78",
   "metadata": {},
   "source": [
    "# Example"
   ]
  },
  {
   "cell_type": "code",
   "execution_count": null,
   "id": "136b7fe7",
   "metadata": {},
   "outputs": [],
   "source": [
    "text1 = \"Translate to German:  My name is Arthur\""
   ]
  },
  {
   "cell_type": "code",
   "execution_count": null,
   "id": "5ff9317b",
   "metadata": {},
   "outputs": [],
   "source": [
    "for text in [text1]:\n",
    "    query_response = query_endpoint(text.encode(\"utf-8\"), endpoint_name=endpoint_name)\n",
    "    generated_text = parse_response(query_response)\n",
    "    print(\n",
    "        f\"Inference:{newline}\"\n",
    "        f\"input text: {text}{newline}\"\n",
    "        f\"generated text: {bold}{generated_text}{unbold}{newline}\"\n",
    "    )"
   ]
  },
  {
   "cell_type": "code",
   "execution_count": null,
   "id": "2455ff2c",
   "metadata": {},
   "outputs": [],
   "source": [
    "text2 = \"A step by step recipe to make bolognese pasta:\""
   ]
  },
  {
   "cell_type": "code",
   "execution_count": null,
   "id": "1fc39f56",
   "metadata": {},
   "outputs": [],
   "source": [
    "for text in [text2]:\n",
    "    query_response = query_endpoint(text.encode(\"utf-8\"), endpoint_name=endpoint_name)\n",
    "    generated_text = parse_response(query_response)\n",
    "    print(\n",
    "        f\"Inference:{newline}\"\n",
    "        f\"input text: {text}{newline}\"\n",
    "        f\"generated text: {bold}{generated_text}{unbold}{newline}\"\n",
    "    )"
   ]
  },
  {
   "cell_type": "code",
   "execution_count": null,
   "id": "9cb16403",
   "metadata": {},
   "outputs": [],
   "source": [
    "text3 = \"\"\"\n",
    "     From the table schema below, generate a SQL code for question \"What is the total sales quantity in New Zealand?\"\n",
    "     Schema of the table is as below in {} brackets.\n",
    "     {\"database\": \"datalake-with-catalog\",\n",
    "    \"table\": \"hanz_sales\",\n",
    "    \"table_description\": \"The table represents daily sales of various types of cement materials in New Zealand\",\n",
    "    \"columns\": [\n",
    "        [\"Material\", \"The various types of cement material code\", \"string\", \"\"],\n",
    "        [\"Ship-to\",\"The customer Codes\", \"string\", \"\"],\n",
    "        [\"Material-Description\", \"Material Description\", \"string\", \"\"],\n",
    "        [\"Ship-to party\", \"Customer description\", \"string\", \"\"],\n",
    "        [\"Del.Date\", \"Delivery Date\", \"date\", \"\"],\n",
    "        [\"Rpt Qty\", \"Reported Quantity\", \"float\", \"Tons\"],\n",
    "        [\"Reporting UOM\", \"Quantity Unit in Tons\", \"string\", \"\"]\n",
    "    ]} \n",
    "    Question: What is the total sales quantity in New Zealand?\n",
    "    Answer: The query should be \"Select sum(Rpt Qty) from hanz_sales;\"\n",
    "    \n",
    "    Similar way answer what are the unique materials?\n",
    "     \"\"\""
   ]
  },
  {
   "cell_type": "code",
   "execution_count": null,
   "id": "c8b80184",
   "metadata": {},
   "outputs": [],
   "source": [
    "for text in [text3]:\n",
    "    query_response = query_endpoint(text.encode(\"utf-8\"), endpoint_name=endpoint_name)\n",
    "    generated_text = parse_response(query_response)\n",
    "    print(\n",
    "        f\"Inference:{newline}\"\n",
    "        f\"input text: {text}{newline}\"\n",
    "        f\"generated text: {bold}{generated_text}{unbold}{newline}\"\n",
    "    )"
   ]
  },
  {
   "cell_type": "code",
   "execution_count": null,
   "id": "55b470db",
   "metadata": {},
   "outputs": [],
   "source": [
    "text4 = \"\"\"\n",
    "     Give me SQL code for: Select all customers from the customer table who have placed an order in the last 30 days\n",
    "     \"\"\""
   ]
  },
  {
   "cell_type": "code",
   "execution_count": null,
   "id": "a564640d",
   "metadata": {},
   "outputs": [],
   "source": [
    "for text in [text4]:\n",
    "    query_response = query_endpoint(text.encode(\"utf-8\"), endpoint_name=endpoint_name)\n",
    "    generated_text = parse_response(query_response)\n",
    "    print(\n",
    "        f\"Inference:{newline}\"\n",
    "        f\"input text: {text}{newline}\"\n",
    "        f\"generated text: {bold}{generated_text}{unbold}{newline}\"\n",
    "    )"
   ]
  },
  {
   "cell_type": "markdown",
   "id": "dbe772ff",
   "metadata": {},
   "source": [
    "# 7. Clean up the endpoint"
   ]
  },
  {
   "cell_type": "code",
   "execution_count": null,
   "id": "8ad52171",
   "metadata": {},
   "outputs": [],
   "source": [
    "# Delete the SageMaker endpoint\n",
    "model_predictor.delete_model()\n",
    "model_predictor.delete_endpoint()"
   ]
  },
  {
   "cell_type": "code",
   "execution_count": null,
   "id": "506c75bf",
   "metadata": {},
   "outputs": [],
   "source": []
  }
 ],
 "metadata": {
  "kernelspec": {
   "display_name": "conda_pytorch_p310",
   "language": "python",
   "name": "conda_pytorch_p310"
  },
  "language_info": {
   "codemirror_mode": {
    "name": "ipython",
    "version": 3
   },
   "file_extension": ".py",
   "mimetype": "text/x-python",
   "name": "python",
   "nbconvert_exporter": "python",
   "pygments_lexer": "ipython3",
   "version": "3.10.13"
  }
 },
 "nbformat": 4,
 "nbformat_minor": 5
}
